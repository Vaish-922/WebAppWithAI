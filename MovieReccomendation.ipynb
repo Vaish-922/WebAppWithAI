{
  "nbformat": 4,
  "nbformat_minor": 0,
  "metadata": {
    "colab": {
      "name": "MovieReccomendation.ipynb",
      "provenance": [],
      "include_colab_link": true
    },
    "kernelspec": {
      "name": "python3",
      "display_name": "Python 3"
    },
    "language_info": {
      "name": "python"
    }
  },
  "cells": [
    {
      "cell_type": "markdown",
      "metadata": {
        "id": "view-in-github",
        "colab_type": "text"
      },
      "source": [
        "<a href=\"https://colab.research.google.com/github/Vaish-922/WebAppWithAI/blob/main/MovieReccomendation.ipynb\" target=\"_parent\"><img src=\"https://colab.research.google.com/assets/colab-badge.svg\" alt=\"Open In Colab\"/></a>"
      ]
    },
    {
      "cell_type": "code",
      "metadata": {
        "id": "iDOf60DUjc1W"
      },
      "source": [
        "import numpy as np\n",
        "import tensorflow as tf\n"
      ],
      "execution_count": 131,
      "outputs": []
    },
    {
      "cell_type": "markdown",
      "metadata": {
        "id": "dVqF-e20jhKE"
      },
      "source": [
        "1. Harry Potter\n",
        "2. Interstellar\n",
        "3. Breakfast at Tiffany's\n",
        "4. The Martian\n",
        "5. La La Land\n",
        "6. The Shawshank redemption\n",
        "7. Jaws\n",
        "8. Pride and Prejudice\n",
        "9. Iron Man\n",
        "10. Pretty Woman"
      ]
    },
    {
      "cell_type": "markdown",
      "metadata": {
        "id": "8qx1Y8w5kMmi"
      },
      "source": [
        "1. Science Fiction\n",
        "2. Romance\n",
        "3. Action\n",
        "4. Classic\n",
        "5. Adventure\n",
        "6. Mystery"
      ]
    },
    {
      "cell_type": "code",
      "metadata": {
        "id": "fMwMrajdSGAR"
      },
      "source": [
        "\n",
        "\n",
        "user_count=6\n",
        "movie_count=7\n",
        "movie_name=['Harry Potter',\n",
        "'Interstellar',\n",
        "'Breakfast at Tiffanys',\n",
        "'The Martian',\n",
        "'La La Land',\n",
        "'The Shawshank redemption',\n",
        "'Jaws',\n",
        "'Pride and Prejudice',\n",
        "'Iron Man',\n",
        "'Pretty Woman']\n",
        "\n",
        "users=tf.Variable(np.random.rand(user_count,6),dtype = tf.float64)\n",
        "movies=tf.Variable(np.array([ [8,2,9,1,7,5], \n",
        "                              [10,1,6,1,8,2], \n",
        "                              [1,8,2,9,2,1], \n",
        "                              [10,4,9,7,10,9], \n",
        "                              [1,10,2,5,1,2],\n",
        "                              [7,2,9,3,10,9], \n",
        "                              [7,2,10,2,9,7], \n",
        "                              [1,10,2,10,1,2], \n",
        "                              [7,4,10,1,6,3], \n",
        "                              [1,10,2,4,1,2] ])/10, dtype = tf.float64)\n",
        "\n",
        "ratings = np.array([\n",
        "[8, 9, 7, 2, 8, 4, 7, 1, 6, 8],\n",
        "[5,10,0,9,0,1,8,0,2,0],\n",
        "[0,8,4,10,7,9,0,6,5,8],\n",
        "[0,9,0,7,2,10,0,0,6,0],\n",
        "[6,3,0,1,9,10,7,9,8,5],\n",
        "[8,10,0,9,5,10,8,0,8,0]\n",
        "])\n",
        "\n"
      ],
      "execution_count": 132,
      "outputs": []
    },
    {
      "cell_type": "code",
      "metadata": {
        "colab": {
          "base_uri": "https://localhost:8080/"
        },
        "id": "rE8iw1U5U1uu",
        "outputId": "cd4cfae0-5b9c-4f67-9aa4-ff3575f97f79"
      },
      "source": [
        "38\n",
        "\n",
        "user_count+=1;\n",
        "new_rate=[0,1,2,3,4,5,6,7,8,9]\n",
        "\n",
        "#getting ratings of new user\n",
        "print(\"Enter the ratings of the following movies: \\n\")\n",
        "# for i in range(10):\n",
        "#   temp=float(input(movie_name[i]+': '))\n",
        "#   new_rate.append(temp)\n",
        "\n",
        "ratings=np.append(ratings,[new_rate],axis=0)\n",
        "\n",
        "#adding user row to user matrix\n",
        "new_user = np.random.rand(1,6)\n",
        "users=np.append(users,new_user,axis=0)\n",
        "\n",
        "\n",
        "\n",
        "\n"
      ],
      "execution_count": 133,
      "outputs": [
        {
          "output_type": "stream",
          "text": [
            "Enter the ratings of the following movies: \n",
            "\n"
          ],
          "name": "stdout"
        }
      ]
    },
    {
      "cell_type": "code",
      "metadata": {
        "id": "QxDmyMlMkF8Z"
      },
      "source": [
        "\n",
        "users = tf.Variable(users)\n",
        "mask = np.ma.masked_not_equal(ratings, 0).mask\n",
        "\n",
        "ratings = tf.constant(ratings, dtype=tf.float64)\n",
        "\n",
        "optimizer = tf.optimizers.Adam()"
      ],
      "execution_count": 134,
      "outputs": []
    },
    {
      "cell_type": "code",
      "metadata": {
        "id": "8ayMnD-ovY-5"
      },
      "source": [
        "training_value = [users, movies]\n",
        "\n",
        "for step in range(5000):\n",
        "\n",
        "    with tf.GradientTape() as tape:\n",
        "\n",
        "        final = tf.matmul(users, movies, transpose_b=True)\n",
        "        final = tf.sigmoid(final)*10\n",
        "        final = final*mask\n",
        "\n",
        "        \n",
        "\n",
        "        loss = tf.losses.mean_squared_error(ratings, final)\n",
        "        \n",
        "        \n",
        "        gradients = tape.gradient(loss, training_value)\n",
        "        optimizer.apply_gradients(zip(gradients, training_value))\n",
        "\n",
        "\n"
      ],
      "execution_count": 135,
      "outputs": []
    },
    {
      "cell_type": "code",
      "metadata": {
        "id": "BOqnkOdWysZW",
        "colab": {
          "base_uri": "https://localhost:8080/"
        },
        "outputId": "6a931736-3dd7-4369-8a6b-c834ecf18fb1"
      },
      "source": [
        "final = tf.matmul(users, movies, transpose_b=True)\n",
        "#final = tf.nn.relu(final)\n",
        "final=tf.sigmoid(final)*10\n",
        "\n",
        "final = np.rint(final.numpy())\n",
        "\n",
        "print(final)"
      ],
      "execution_count": 136,
      "outputs": [
        {
          "output_type": "stream",
          "text": [
            "[[ 8.  9.  7.  2.  8.  4.  7.  1.  6.  8.]\n",
            " [ 5. 10.  9.  9.  6.  1.  8.  5.  2.  1.]\n",
            " [ 7.  8.  4. 10.  7.  9.  7.  6.  5.  8.]\n",
            " [ 6.  9.  5.  7.  2. 10.  3.  6.  6.  1.]\n",
            " [ 6.  3.  6.  1.  9. 10.  7.  9.  8.  5.]\n",
            " [ 8. 10.  6.  9.  5. 10.  8.  6.  8.  5.]\n",
            " [ 5.  1.  2.  3.  4.  5.  6.  7.  8.  9.]]\n"
          ],
          "name": "stdout"
        }
      ]
    }
  ]
}